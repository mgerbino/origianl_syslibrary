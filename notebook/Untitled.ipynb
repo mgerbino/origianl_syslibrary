{
 "cells": [
  {
   "cell_type": "code",
   "execution_count": 1,
   "metadata": {},
   "outputs": [],
   "source": [
    "import numpy as np\n",
    "from sysspectra import syslib_mflike as sym"
   ]
  },
  {
   "cell_type": "code",
   "execution_count": 2,
   "metadata": {},
   "outputs": [],
   "source": [
    "ell=np.arange(2,10)\n",
    "cl=dict()\n",
    "nu=[90,150]\n",
    "cl[\"tt\",90,90]=1.*np.ones(len(ell))#/ell**2\n",
    "cl[\"tt\",90,150]=1.*np.ones(len(ell))#5#+1./ell**2\n",
    "cl[\"tt\",150,90]=1.*np.ones(len(ell))#5+1.#/ell**2\n",
    "cl[\"tt\",150,150]=1.*np.ones(len(ell))#25#+1./ell**2\n",
    "cl[\"te\",90,90]=1.*np.ones(len(ell))#/ell**2/10.\n",
    "cl[\"te\",90,150]=1.*np.ones(len(ell))#5#+1./ell**2/10.\n",
    "cl[\"te\",150,90]=1.*np.ones(len(ell))#5+1.#/ell**2/10.\n",
    "cl[\"te\",150,150]=1.*np.ones(len(ell))#25#+1./ell**2/10.\n",
    "cl[\"ee\",90,90]=1.*np.ones(len(ell))#/ell**2/1000.\n",
    "cl[\"ee\",90,150]=1.*np.ones(len(ell))#5#+1./ell**2/1000.\n",
    "cl[\"ee\",150,90]=1.*np.ones(len(ell))#5+1.#/ell**2/1000.\n",
    "cl[\"ee\",150,150]=1.*np.ones(len(ell))#25#+1./ell**2/1000."
   ]
  },
  {
   "cell_type": "code",
   "execution_count": 3,
   "metadata": {},
   "outputs": [
    {
     "data": {
      "text/plain": [
       "Calibration_Planck15:\n",
       "  cal1:\n",
       "    tt:\n",
       "    - 1.0\n",
       "    - 1.0\n",
       "    - 1.0\n",
       "  cal2:\n",
       "    tt:\n",
       "    - 1.0\n",
       "    - 1.0\n",
       "    - 1.0\n",
       "  nu: null"
      ]
     },
     "execution_count": 3,
     "metadata": {},
     "output_type": "execute_result"
    }
   ],
   "source": [
    "cal15=sym.Calibration_Planck15(ell=ell,spectra=cl)\n",
    "cal15"
   ]
  },
  {
   "cell_type": "code",
   "execution_count": 4,
   "metadata": {},
   "outputs": [
    {
     "data": {
      "text/plain": [
       "{('tt', 90, 90): array([4., 4., 4., 4., 4., 4., 4., 4.]),\n",
       " ('te', 90, 90): array([6., 6., 6., 6., 6., 6., 6., 6.]),\n",
       " ('ee', 90, 90): array([9., 9., 9., 9., 9., 9., 9., 9.]),\n",
       " ('tt', 90, 150): array([8., 8., 8., 8., 8., 8., 8., 8.]),\n",
       " ('te', 90, 150): array([12., 12., 12., 12., 12., 12., 12., 12.]),\n",
       " ('ee', 90, 150): array([15., 15., 15., 15., 15., 15., 15., 15.]),\n",
       " ('tt', 150, 90): array([8., 8., 8., 8., 8., 8., 8., 8.]),\n",
       " ('te', 150, 90): array([10., 10., 10., 10., 10., 10., 10., 10.]),\n",
       " ('ee', 150, 90): array([15., 15., 15., 15., 15., 15., 15., 15.]),\n",
       " ('tt', 150, 150): array([16., 16., 16., 16., 16., 16., 16., 16.]),\n",
       " ('te', 150, 150): array([20., 20., 20., 20., 20., 20., 20., 20.]),\n",
       " ('ee', 150, 150): array([25., 25., 25., 25., 25., 25., 25., 25.])}"
      ]
     },
     "execution_count": 4,
     "metadata": {},
     "output_type": "execute_result"
    }
   ],
   "source": [
    "cal1={}\n",
    "cal1['tt']=[2.,4.]\n",
    "cal1['ee']=[3.,5.]\n",
    "cal15(cal1=cal1,cal2=cal1,nu=nu)"
   ]
  },
  {
   "cell_type": "code",
   "execution_count": 5,
   "metadata": {},
   "outputs": [],
   "source": [
    "from sysspectra import syslib as syl"
   ]
  },
  {
   "cell_type": "code",
   "execution_count": 6,
   "metadata": {},
   "outputs": [
    {
     "ename": "AttributeError",
     "evalue": "module 'sysspectra.syslib' has no attribute 'Calibration_Planck15'",
     "output_type": "error",
     "traceback": [
      "\u001b[0;31m---------------------------------------------------------------------------\u001b[0m",
      "\u001b[0;31mAttributeError\u001b[0m                            Traceback (most recent call last)",
      "\u001b[0;32m<ipython-input-6-0badaaf64270>\u001b[0m in \u001b[0;36m<module>\u001b[0;34m\u001b[0m\n\u001b[0;32m----> 1\u001b[0;31m \u001b[0msyl\u001b[0m\u001b[0;34m.\u001b[0m\u001b[0mCalibration_Planck15\u001b[0m\u001b[0;34m(\u001b[0m\u001b[0mell\u001b[0m\u001b[0;34m=\u001b[0m\u001b[0mell\u001b[0m\u001b[0;34m,\u001b[0m\u001b[0mspectra\u001b[0m\u001b[0;34m=\u001b[0m\u001b[0mcl\u001b[0m\u001b[0;34m)\u001b[0m\u001b[0;34m\u001b[0m\u001b[0;34m\u001b[0m\u001b[0m\n\u001b[0m",
      "\u001b[0;31mAttributeError\u001b[0m: module 'sysspectra.syslib' has no attribute 'Calibration_Planck15'"
     ]
    }
   ],
   "source": [
    "syl.Calibration_Planck15(ell=ell,spectra=cl)"
   ]
  },
  {
   "cell_type": "code",
   "execution_count": 7,
   "metadata": {},
   "outputs": [
    {
     "data": {
      "text/plain": [
       "Calibration:\n",
       "  cXnu1: 1.0\n",
       "  cYnu2: 1.0"
      ]
     },
     "execution_count": 7,
     "metadata": {},
     "output_type": "execute_result"
    }
   ],
   "source": [
    "sym.Calibration()"
   ]
  },
  {
   "cell_type": "code",
   "execution_count": 8,
   "metadata": {},
   "outputs": [
    {
     "data": {
      "text/plain": [
       "Calibration:\n",
       "  cXnu1: 1.0\n",
       "  cYnu2: 1.0"
      ]
     },
     "execution_count": 8,
     "metadata": {},
     "output_type": "execute_result"
    }
   ],
   "source": [
    "syl.Calibration()"
   ]
  },
  {
   "cell_type": "code",
   "execution_count": 2,
   "metadata": {},
   "outputs": [],
   "source": [
    "tfromf=sym.ReadTemplateFromFile(rootname='test_template')"
   ]
  },
  {
   "cell_type": "code",
   "execution_count": 7,
   "metadata": {},
   "outputs": [],
   "source": [
    "field=['tt','te','ee']\n",
    "amp={f:np.ones((3,3)) for f in field}"
   ]
  },
  {
   "cell_type": "code",
   "execution_count": 8,
   "metadata": {},
   "outputs": [
    {
     "data": {
      "text/plain": [
       "{'tt': array([[1., 1., 1.],\n",
       "        [1., 1., 1.],\n",
       "        [1., 1., 1.]]),\n",
       " 'te': array([[1., 1., 1.],\n",
       "        [1., 1., 1.],\n",
       "        [1., 1., 1.]]),\n",
       " 'ee': array([[1., 1., 1.],\n",
       "        [1., 1., 1.],\n",
       "        [1., 1., 1.]])}"
      ]
     },
     "execution_count": 8,
     "metadata": {},
     "output_type": "execute_result"
    }
   ],
   "source": [
    "amp"
   ]
  },
  {
   "cell_type": "code",
   "execution_count": 9,
   "metadata": {},
   "outputs": [
    {
     "name": "stdout",
     "output_type": "stream",
     "text": [
      "('ee', 93, 93) [1. 1. 1. 1. 1. 1. 1. 1. 1. 1. 1. 1. 1. 1. 1. 1. 1. 1. 1. 1.]\n",
      "('ee', 93, 145) [1. 1. 1. 1. 1. 1. 1. 1. 1. 1. 1. 1. 1. 1. 1. 1. 1. 1. 1. 1.]\n",
      "('ee', 93, 225) [1. 1. 1. 1. 1. 1. 1. 1. 1. 1. 1. 1. 1. 1. 1. 1. 1. 1. 1. 1.]\n",
      "('ee', 145, 93) [1. 1. 1. 1. 1. 1. 1. 1. 1. 1. 1. 1. 1. 1. 1. 1. 1. 1. 1. 1.]\n",
      "('ee', 145, 145) [1. 1. 1. 1. 1. 1. 1. 1. 1. 1. 1. 1. 1. 1. 1. 1. 1. 1. 1. 1.]\n",
      "('ee', 145, 225) [1. 1. 1. 1. 1. 1. 1. 1. 1. 1. 1. 1. 1. 1. 1. 1. 1. 1. 1. 1.]\n",
      "('ee', 225, 93) [1. 1. 1. 1. 1. 1. 1. 1. 1. 1. 1. 1. 1. 1. 1. 1. 1. 1. 1. 1.]\n",
      "('ee', 225, 145) [1. 1. 1. 1. 1. 1. 1. 1. 1. 1. 1. 1. 1. 1. 1. 1. 1. 1. 1. 1.]\n",
      "('ee', 225, 225) [1. 1. 1. 1. 1. 1. 1. 1. 1. 1. 1. 1. 1. 1. 1. 1. 1. 1. 1. 1.]\n",
      "('te', 93, 93) [1. 1. 1. 1. 1. 1. 1. 1. 1. 1. 1. 1. 1. 1. 1. 1. 1. 1. 1. 1.]\n",
      "('te', 93, 145) [1. 1. 1. 1. 1. 1. 1. 1. 1. 1. 1. 1. 1. 1. 1. 1. 1. 1. 1. 1.]\n",
      "('te', 93, 225) [1. 1. 1. 1. 1. 1. 1. 1. 1. 1. 1. 1. 1. 1. 1. 1. 1. 1. 1. 1.]\n",
      "('te', 145, 93) [1. 1. 1. 1. 1. 1. 1. 1. 1. 1. 1. 1. 1. 1. 1. 1. 1. 1. 1. 1.]\n",
      "('te', 145, 145) [1. 1. 1. 1. 1. 1. 1. 1. 1. 1. 1. 1. 1. 1. 1. 1. 1. 1. 1. 1.]\n",
      "('te', 145, 225) [1. 1. 1. 1. 1. 1. 1. 1. 1. 1. 1. 1. 1. 1. 1. 1. 1. 1. 1. 1.]\n",
      "('te', 225, 93) [1. 1. 1. 1. 1. 1. 1. 1. 1. 1. 1. 1. 1. 1. 1. 1. 1. 1. 1. 1.]\n",
      "('te', 225, 145) [1. 1. 1. 1. 1. 1. 1. 1. 1. 1. 1. 1. 1. 1. 1. 1. 1. 1. 1. 1.]\n",
      "('te', 225, 225) [1. 1. 1. 1. 1. 1. 1. 1. 1. 1. 1. 1. 1. 1. 1. 1. 1. 1. 1. 1.]\n",
      "('tt', 93, 93) [1. 1. 1. 1. 1. 1. 1. 1. 1. 1. 1. 1. 1. 1. 1. 1. 1. 1. 1. 1.]\n",
      "('tt', 93, 145) [1. 1. 1. 1. 1. 1. 1. 1. 1. 1. 1. 1. 1. 1. 1. 1. 1. 1. 1. 1.]\n",
      "('tt', 93, 225) [1. 1. 1. 1. 1. 1. 1. 1. 1. 1. 1. 1. 1. 1. 1. 1. 1. 1. 1. 1.]\n",
      "('tt', 145, 93) [1. 1. 1. 1. 1. 1. 1. 1. 1. 1. 1. 1. 1. 1. 1. 1. 1. 1. 1. 1.]\n",
      "('tt', 145, 145) [1. 1. 1. 1. 1. 1. 1. 1. 1. 1. 1. 1. 1. 1. 1. 1. 1. 1. 1. 1.]\n",
      "('tt', 145, 225) [1. 1. 1. 1. 1. 1. 1. 1. 1. 1. 1. 1. 1. 1. 1. 1. 1. 1. 1. 1.]\n",
      "('tt', 225, 93) [1. 1. 1. 1. 1. 1. 1. 1. 1. 1. 1. 1. 1. 1. 1. 1. 1. 1. 1. 1.]\n",
      "('tt', 225, 145) [1. 1. 1. 1. 1. 1. 1. 1. 1. 1. 1. 1. 1. 1. 1. 1. 1. 1. 1. 1.]\n",
      "('tt', 225, 225) [1. 1. 1. 1. 1. 1. 1. 1. 1. 1. 1. 1. 1. 1. 1. 1. 1. 1. 1. 1.]\n"
     ]
    }
   ],
   "source": [
    "ell=np.arange(20)\n",
    "clt=tfromf(amp=amp,ell=ell)\n",
    "for k in clt.keys():\n",
    "    print(k,clt[k])"
   ]
  },
  {
   "cell_type": "code",
   "execution_count": 6,
   "metadata": {},
   "outputs": [
    {
     "data": {
      "text/plain": [
       "{'amp': {'field1': array([[1., 1., 1.],\n",
       "         [1., 1., 1.],\n",
       "         [1., 1., 1.]])},\n",
       " 'ell': None}"
      ]
     },
     "execution_count": 6,
     "metadata": {},
     "output_type": "execute_result"
    }
   ],
   "source": [
    "tfromf.defaults"
   ]
  },
  {
   "cell_type": "code",
   "execution_count": null,
   "metadata": {},
   "outputs": [],
   "source": []
  }
 ],
 "metadata": {
  "kernelspec": {
   "display_name": "newsysV0.1",
   "language": "python",
   "name": "newsysv0.1"
  },
  "language_info": {
   "codemirror_mode": {
    "name": "ipython",
    "version": 3
   },
   "file_extension": ".py",
   "mimetype": "text/x-python",
   "name": "python",
   "nbconvert_exporter": "python",
   "pygments_lexer": "ipython3",
   "version": "3.7.3"
  }
 },
 "nbformat": 4,
 "nbformat_minor": 4
}
